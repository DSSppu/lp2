{
 "cells": [
  {
   "cell_type": "code",
   "execution_count": 1,
   "id": "af09f6d3-649d-421a-8f29-3ef090a2a923",
   "metadata": {},
   "outputs": [
    {
     "name": "stdout",
     "output_type": "stream",
     "text": [
      "Hello My name is Jarvis, How can I help you?\n"
     ]
    },
    {
     "name": "stdin",
     "output_type": "stream",
     "text": [
      "User :  hoo\n"
     ]
    },
    {
     "name": "stdout",
     "output_type": "stream",
     "text": [
      "Sorry I did not understand\n"
     ]
    },
    {
     "name": "stdin",
     "output_type": "stream",
     "text": [
      "User :  hi\n"
     ]
    },
    {
     "name": "stdout",
     "output_type": "stream",
     "text": [
      "Hello my name is jarves !\n"
     ]
    },
    {
     "name": "stdin",
     "output_type": "stream",
     "text": [
      "User :  by\n"
     ]
    },
    {
     "name": "stdout",
     "output_type": "stream",
     "text": [
      "Thank you for comming!\n"
     ]
    }
   ],
   "source": [
    "#chatbot\n",
    "def Chat(responses):\n",
    "    reply = {\n",
    "        'hi':'Hello my name is jarves !',\n",
    "        'time': 'Current time is 12:12UTC',\n",
    "        'feedback':'This is our feedback form',\n",
    "        'good':'Thank you'\n",
    "    }\n",
    "    if responses in reply:\n",
    "        print(reply[responses])\n",
    "    else:\n",
    "        print(\"Sorry I did not understand\")\n",
    "        \n",
    "def greet():\n",
    "    print(\"Hello My name is Jarvis, How can I help you?\")\n",
    "def by():\n",
    "    print(\"Thank you for comming!\")\n",
    "    exit()\n",
    "\n",
    "greet()\n",
    "while True:\n",
    "    \n",
    "    userin = input('User : ')\n",
    "    user_input = userin.lower()\n",
    "    \n",
    "    if user_input == 'by':\n",
    "        by()\n",
    "        break\n",
    "\n",
    "    Chat(user_input)\n",
    "        \n"
   ]
  },
  {
   "cell_type": "code",
   "execution_count": null,
   "id": "5900e340-1a8b-44cc-a36c-2e0aeac71f89",
   "metadata": {},
   "outputs": [],
   "source": []
  }
 ],
 "metadata": {
  "kernelspec": {
   "display_name": "Python 3 (ipykernel)",
   "language": "python",
   "name": "python3"
  },
  "language_info": {
   "codemirror_mode": {
    "name": "ipython",
    "version": 3
   },
   "file_extension": ".py",
   "mimetype": "text/x-python",
   "name": "python",
   "nbconvert_exporter": "python",
   "pygments_lexer": "ipython3",
   "version": "3.11.7"
  }
 },
 "nbformat": 4,
 "nbformat_minor": 5
}
