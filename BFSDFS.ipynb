{
 "cells": [
  {
   "cell_type": "code",
   "execution_count": 7,
   "id": "4724d71b-200e-4b5e-8418-02b50efc1441",
   "metadata": {},
   "outputs": [
    {
     "name": "stdout",
     "output_type": "stream",
     "text": [
      "A\n",
      "B\n",
      "D\n",
      "E\n",
      "C\n",
      "F\n"
     ]
    }
   ],
   "source": [
    "#dfs\n",
    "graph = {\n",
    "    \"A\":[\"B\", \"C\"],\n",
    "    \"B\":[\"D\", \"E\"],\n",
    "    \"C\":[\"F\"],\n",
    "    \"D\":[],\n",
    "    \"E\":[],\n",
    "    \"F\":[]\n",
    "}\n",
    "\n",
    "visited = set()\n",
    "\n",
    "def DFS(visited, graph, node):\n",
    "    if node not in visited:\n",
    "        print(node)\n",
    "        visited.add(node)\n",
    "        for child in graph[node]:\n",
    "            DFS(visited, graph, child)\n",
    "DFS(visited, graph, \"A\")\n"
   ]
  },
  {
   "cell_type": "code",
   "execution_count": 9,
   "id": "9be7d622-3b2e-4e8c-ab65-71642fed08c7",
   "metadata": {},
   "outputs": [
    {
     "name": "stdout",
     "output_type": "stream",
     "text": [
      "A\n",
      "B\n",
      "C\n",
      "D\n",
      "E\n",
      "F\n"
     ]
    }
   ],
   "source": [
    "#bfs\n",
    "from collections import deque\n",
    "def BFS(graph, start):\n",
    "    visited = set()\n",
    "    queue = deque([start])\n",
    "    \n",
    "    while queue:\n",
    "        node = queue.popleft()\n",
    "        if node not in visited:\n",
    "            print(node)\n",
    "            visited.add(node)\n",
    "        queue.extend(graph[node])\n",
    "BFS(graph,\"A\")"
   ]
  }
 ],
 "metadata": {
  "kernelspec": {
   "display_name": "Python 3 (ipykernel)",
   "language": "python",
   "name": "python3"
  },
  "language_info": {
   "codemirror_mode": {
    "name": "ipython",
    "version": 3
   },
   "file_extension": ".py",
   "mimetype": "text/x-python",
   "name": "python",
   "nbconvert_exporter": "python",
   "pygments_lexer": "ipython3",
   "version": "3.11.7"
  }
 },
 "nbformat": 4,
 "nbformat_minor": 5
}
