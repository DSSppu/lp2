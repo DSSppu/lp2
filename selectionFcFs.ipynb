{
 "cells": [
  {
   "cell_type": "code",
   "execution_count": 5,
   "id": "4d0160a9-3438-4132-8ed8-1b9d91bb9237",
   "metadata": {},
   "outputs": [
    {
     "name": "stdout",
     "output_type": "stream",
     "text": [
      "Before search: [12, 55, 6, 20, 77, 4, 21]\n",
      "After Search: [4, 6, 12, 20, 21, 55, 77]\n"
     ]
    }
   ],
   "source": [
    "#selection sort\n",
    "\n",
    "nums = [12,55,6,20,77,4,21]\n",
    "\n",
    "def selectionsort(arr):\n",
    "    n=len(arr)\n",
    "    for i in range(n):\n",
    "        min_index = i\n",
    "        for j in range(i+1,n):\n",
    "            if arr[j]< arr[min_index]:\n",
    "                min_index = j\n",
    "        temp = arr[i]\n",
    "        arr[i] = arr[min_index]\n",
    "        arr[min_index] = temp\n",
    "    print(\"After Search:\",arr)\n",
    "print(\"Before search:\", nums)\n",
    "\n",
    "\n",
    "selectionsort(nums)"
   ]
  },
  {
   "cell_type": "code",
   "execution_count": 18,
   "id": "b9247fbf-eb42-418e-947f-5330b8aa763d",
   "metadata": {},
   "outputs": [
    {
     "name": "stdout",
     "output_type": "stream",
     "text": [
      "process\t\tburst time\t\tWaiting time\t\ttotal turnaround time\n",
      "p1 \t\t 5 \t\t\t 0 \t\t\t 5\n",
      "p2 \t\t 10 \t\t\t 5 \t\t\t 15\n",
      "p3 \t\t 15 \t\t\t 15 \t\t\t 30\n",
      "\n",
      " avg turn around time: 16.666666666666668\n",
      "\n",
      " avg waiting time : 10.0\n"
     ]
    }
   ],
   "source": [
    "#fcfs\n",
    "bt = [5,10,15]\n",
    "wt = [0]*len(bt)\n",
    "tt = [0]*len(bt)\n",
    "\n",
    "i = 1\n",
    "while i<len(wt):\n",
    "    wt[i] = wt[i-1] + bt[i-1]\n",
    "    i+=1\n",
    "\n",
    "tt[0] = bt[0]\n",
    "i = 1\n",
    "while i < len(tt):\n",
    "    tt[i] = wt[i]+bt[i]\n",
    "    i += 1\n",
    "process = ['p1','p2','p3']\n",
    "    \n",
    "print(\"process\\t\\tburst time\\t\\tWaiting time\\t\\ttotal turnaround time\")\n",
    "for p,b, w, t in zip(process, bt, wt, tt):\n",
    "    print(p,'\\t\\t', b,'\\t\\t\\t',w,'\\t\\t\\t',t)\n",
    "\n",
    "print(\"\\n avg turn around time:\",sum(tt)/len(tt))\n",
    "print(\"\\n avg waiting time :\",sum(bt)/len(bt))"
   ]
  },
  {
   "cell_type": "code",
   "execution_count": 7,
   "id": "4de6072e-da83-4f7c-a75a-0f1ee4b690f8",
   "metadata": {},
   "outputs": [
    {
     "data": {
      "text/plain": [
       "[0, 5, 15]"
      ]
     },
     "execution_count": 7,
     "metadata": {},
     "output_type": "execute_result"
    }
   ],
   "source": [
    "wt"
   ]
  },
  {
   "cell_type": "code",
   "execution_count": 10,
   "id": "ffc2ead1-a0af-4e44-9b93-80dd27816842",
   "metadata": {},
   "outputs": [
    {
     "data": {
      "text/plain": [
       "[5, 15, 30]"
      ]
     },
     "execution_count": 10,
     "metadata": {},
     "output_type": "execute_result"
    }
   ],
   "source": [
    "tt"
   ]
  }
 ],
 "metadata": {
  "kernelspec": {
   "display_name": "Python 3 (ipykernel)",
   "language": "python",
   "name": "python3"
  },
  "language_info": {
   "codemirror_mode": {
    "name": "ipython",
    "version": 3
   },
   "file_extension": ".py",
   "mimetype": "text/x-python",
   "name": "python",
   "nbconvert_exporter": "python",
   "pygments_lexer": "ipython3",
   "version": "3.11.7"
  }
 },
 "nbformat": 4,
 "nbformat_minor": 5
}
